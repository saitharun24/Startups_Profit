{
 "cells": [
  {
   "cell_type": "code",
   "execution_count": 1,
   "id": "polyphonic-model",
   "metadata": {},
   "outputs": [],
   "source": [
    "#importing the require packages\n",
    "\n",
    "import numpy as np\n",
    "import pandas as pd\n",
    "from matplotlib import pyplot as plt\n",
    "from sklearn.model_selection import train_test_split\n",
    "from sklearn.linear_model import LinearRegression\n",
    "from sklearn.metrics import mean_squared_error\n",
    "import seaborn as sns"
   ]
  },
  {
   "cell_type": "code",
   "execution_count": 2,
   "id": "crazy-jefferson",
   "metadata": {},
   "outputs": [
    {
     "data": {
      "text/html": [
       "<div>\n",
       "<style scoped>\n",
       "    .dataframe tbody tr th:only-of-type {\n",
       "        vertical-align: middle;\n",
       "    }\n",
       "\n",
       "    .dataframe tbody tr th {\n",
       "        vertical-align: top;\n",
       "    }\n",
       "\n",
       "    .dataframe thead th {\n",
       "        text-align: right;\n",
       "    }\n",
       "</style>\n",
       "<table border=\"1\" class=\"dataframe\">\n",
       "  <thead>\n",
       "    <tr style=\"text-align: right;\">\n",
       "      <th></th>\n",
       "      <th>R&amp;D Spend</th>\n",
       "      <th>Administration</th>\n",
       "      <th>Marketing Spend</th>\n",
       "      <th>State</th>\n",
       "      <th>Profit</th>\n",
       "    </tr>\n",
       "  </thead>\n",
       "  <tbody>\n",
       "    <tr>\n",
       "      <th>0</th>\n",
       "      <td>165349.20</td>\n",
       "      <td>136897.80</td>\n",
       "      <td>471784.10</td>\n",
       "      <td>New York</td>\n",
       "      <td>192261.83</td>\n",
       "    </tr>\n",
       "    <tr>\n",
       "      <th>1</th>\n",
       "      <td>162597.70</td>\n",
       "      <td>151377.59</td>\n",
       "      <td>443898.53</td>\n",
       "      <td>California</td>\n",
       "      <td>191792.06</td>\n",
       "    </tr>\n",
       "    <tr>\n",
       "      <th>2</th>\n",
       "      <td>153441.51</td>\n",
       "      <td>101145.55</td>\n",
       "      <td>407934.54</td>\n",
       "      <td>Florida</td>\n",
       "      <td>191050.39</td>\n",
       "    </tr>\n",
       "    <tr>\n",
       "      <th>3</th>\n",
       "      <td>144372.41</td>\n",
       "      <td>118671.85</td>\n",
       "      <td>383199.62</td>\n",
       "      <td>New York</td>\n",
       "      <td>182901.99</td>\n",
       "    </tr>\n",
       "    <tr>\n",
       "      <th>4</th>\n",
       "      <td>140143.50</td>\n",
       "      <td>NaN</td>\n",
       "      <td>NaN</td>\n",
       "      <td>Florida</td>\n",
       "      <td>134307.35</td>\n",
       "    </tr>\n",
       "  </tbody>\n",
       "</table>\n",
       "</div>"
      ],
      "text/plain": [
       "   R&D Spend  Administration  Marketing Spend       State     Profit\n",
       "0  165349.20       136897.80        471784.10    New York  192261.83\n",
       "1  162597.70       151377.59        443898.53  California  191792.06\n",
       "2  153441.51       101145.55        407934.54     Florida  191050.39\n",
       "3  144372.41       118671.85        383199.62    New York  182901.99\n",
       "4  140143.50             NaN              NaN     Florida  134307.35"
      ]
     },
     "execution_count": 2,
     "metadata": {},
     "output_type": "execute_result"
    }
   ],
   "source": [
    "#loading the dataset and checking it\n",
    "\n",
    "df = pd.read_csv('50_startups.csv')\n",
    "df.head()"
   ]
  },
  {
   "cell_type": "code",
   "execution_count": 3,
   "id": "greenhouse-reducing",
   "metadata": {},
   "outputs": [
    {
     "data": {
      "text/html": [
       "<div>\n",
       "<style scoped>\n",
       "    .dataframe tbody tr th:only-of-type {\n",
       "        vertical-align: middle;\n",
       "    }\n",
       "\n",
       "    .dataframe tbody tr th {\n",
       "        vertical-align: top;\n",
       "    }\n",
       "\n",
       "    .dataframe thead th {\n",
       "        text-align: right;\n",
       "    }\n",
       "</style>\n",
       "<table border=\"1\" class=\"dataframe\">\n",
       "  <thead>\n",
       "    <tr style=\"text-align: right;\">\n",
       "      <th></th>\n",
       "      <th>R&amp;D Spend</th>\n",
       "      <th>Administration</th>\n",
       "      <th>Marketing Spend</th>\n",
       "      <th>Profit</th>\n",
       "    </tr>\n",
       "  </thead>\n",
       "  <tbody>\n",
       "    <tr>\n",
       "      <th>count</th>\n",
       "      <td>53.000000</td>\n",
       "      <td>51.000000</td>\n",
       "      <td>52.000000</td>\n",
       "      <td>52.000000</td>\n",
       "    </tr>\n",
       "    <tr>\n",
       "      <th>mean</th>\n",
       "      <td>75374.625283</td>\n",
       "      <td>120805.798627</td>\n",
       "      <td>206471.538269</td>\n",
       "      <td>113097.331923</td>\n",
       "    </tr>\n",
       "    <tr>\n",
       "      <th>std</th>\n",
       "      <td>46133.031203</td>\n",
       "      <td>28001.877707</td>\n",
       "      <td>123424.029117</td>\n",
       "      <td>39902.857207</td>\n",
       "    </tr>\n",
       "    <tr>\n",
       "      <th>min</th>\n",
       "      <td>0.000000</td>\n",
       "      <td>51283.140000</td>\n",
       "      <td>0.000000</td>\n",
       "      <td>14681.400000</td>\n",
       "    </tr>\n",
       "    <tr>\n",
       "      <th>25%</th>\n",
       "      <td>44069.950000</td>\n",
       "      <td>102101.520000</td>\n",
       "      <td>125324.665000</td>\n",
       "      <td>90518.427500</td>\n",
       "    </tr>\n",
       "    <tr>\n",
       "      <th>50%</th>\n",
       "      <td>73994.560000</td>\n",
       "      <td>122616.840000</td>\n",
       "      <td>208157.655000</td>\n",
       "      <td>108643.015000</td>\n",
       "    </tr>\n",
       "    <tr>\n",
       "      <th>75%</th>\n",
       "      <td>114523.610000</td>\n",
       "      <td>144606.780000</td>\n",
       "      <td>298932.675000</td>\n",
       "      <td>142253.990000</td>\n",
       "    </tr>\n",
       "    <tr>\n",
       "      <th>max</th>\n",
       "      <td>165349.200000</td>\n",
       "      <td>182645.560000</td>\n",
       "      <td>471784.100000</td>\n",
       "      <td>192261.830000</td>\n",
       "    </tr>\n",
       "  </tbody>\n",
       "</table>\n",
       "</div>"
      ],
      "text/plain": [
       "           R&D Spend  Administration  Marketing Spend         Profit\n",
       "count      53.000000       51.000000        52.000000      52.000000\n",
       "mean    75374.625283   120805.798627    206471.538269  113097.331923\n",
       "std     46133.031203    28001.877707    123424.029117   39902.857207\n",
       "min         0.000000    51283.140000         0.000000   14681.400000\n",
       "25%     44069.950000   102101.520000    125324.665000   90518.427500\n",
       "50%     73994.560000   122616.840000    208157.655000  108643.015000\n",
       "75%    114523.610000   144606.780000    298932.675000  142253.990000\n",
       "max    165349.200000   182645.560000    471784.100000  192261.830000"
      ]
     },
     "execution_count": 3,
     "metadata": {},
     "output_type": "execute_result"
    }
   ],
   "source": [
    "#looking at some of the statical values to better understand the data\n",
    "\n",
    "df.describe()"
   ]
  },
  {
   "cell_type": "code",
   "execution_count": 4,
   "id": "hungarian-dealer",
   "metadata": {},
   "outputs": [
    {
     "name": "stdout",
     "output_type": "stream",
     "text": [
      "R&D Spend          0\n",
      "Administration     2\n",
      "Marketing Spend    1\n",
      "State              1\n",
      "Profit             1\n",
      "dtype: int64\n"
     ]
    },
    {
     "data": {
      "text/html": [
       "<div>\n",
       "<style scoped>\n",
       "    .dataframe tbody tr th:only-of-type {\n",
       "        vertical-align: middle;\n",
       "    }\n",
       "\n",
       "    .dataframe tbody tr th {\n",
       "        vertical-align: top;\n",
       "    }\n",
       "\n",
       "    .dataframe thead th {\n",
       "        text-align: right;\n",
       "    }\n",
       "</style>\n",
       "<table border=\"1\" class=\"dataframe\">\n",
       "  <thead>\n",
       "    <tr style=\"text-align: right;\">\n",
       "      <th></th>\n",
       "      <th>R&amp;D Spend</th>\n",
       "      <th>Administration</th>\n",
       "      <th>Marketing Spend</th>\n",
       "      <th>Profit</th>\n",
       "    </tr>\n",
       "  </thead>\n",
       "  <tbody>\n",
       "    <tr>\n",
       "      <th>count</th>\n",
       "      <td>50.000000</td>\n",
       "      <td>50.000000</td>\n",
       "      <td>50.000000</td>\n",
       "      <td>50.000000</td>\n",
       "    </tr>\n",
       "    <tr>\n",
       "      <th>mean</th>\n",
       "      <td>73721.615600</td>\n",
       "      <td>121344.639600</td>\n",
       "      <td>211025.097800</td>\n",
       "      <td>112012.639200</td>\n",
       "    </tr>\n",
       "    <tr>\n",
       "      <th>std</th>\n",
       "      <td>45902.256482</td>\n",
       "      <td>28017.802755</td>\n",
       "      <td>122290.310726</td>\n",
       "      <td>40306.180338</td>\n",
       "    </tr>\n",
       "    <tr>\n",
       "      <th>min</th>\n",
       "      <td>0.000000</td>\n",
       "      <td>51283.140000</td>\n",
       "      <td>0.000000</td>\n",
       "      <td>14681.400000</td>\n",
       "    </tr>\n",
       "    <tr>\n",
       "      <th>25%</th>\n",
       "      <td>39936.370000</td>\n",
       "      <td>103730.875000</td>\n",
       "      <td>129300.132500</td>\n",
       "      <td>90138.902500</td>\n",
       "    </tr>\n",
       "    <tr>\n",
       "      <th>50%</th>\n",
       "      <td>73051.080000</td>\n",
       "      <td>122699.795000</td>\n",
       "      <td>212716.240000</td>\n",
       "      <td>107978.190000</td>\n",
       "    </tr>\n",
       "    <tr>\n",
       "      <th>75%</th>\n",
       "      <td>101602.800000</td>\n",
       "      <td>144842.180000</td>\n",
       "      <td>299469.085000</td>\n",
       "      <td>139765.977500</td>\n",
       "    </tr>\n",
       "    <tr>\n",
       "      <th>max</th>\n",
       "      <td>165349.200000</td>\n",
       "      <td>182645.560000</td>\n",
       "      <td>471784.100000</td>\n",
       "      <td>192261.830000</td>\n",
       "    </tr>\n",
       "  </tbody>\n",
       "</table>\n",
       "</div>"
      ],
      "text/plain": [
       "           R&D Spend  Administration  Marketing Spend         Profit\n",
       "count      50.000000       50.000000        50.000000      50.000000\n",
       "mean    73721.615600   121344.639600    211025.097800  112012.639200\n",
       "std     45902.256482    28017.802755    122290.310726   40306.180338\n",
       "min         0.000000    51283.140000         0.000000   14681.400000\n",
       "25%     39936.370000   103730.875000    129300.132500   90138.902500\n",
       "50%     73051.080000   122699.795000    212716.240000  107978.190000\n",
       "75%    101602.800000   144842.180000    299469.085000  139765.977500\n",
       "max    165349.200000   182645.560000    471784.100000  192261.830000"
      ]
     },
     "execution_count": 4,
     "metadata": {},
     "output_type": "execute_result"
    }
   ],
   "source": [
    "#Data Preprocessing\n",
    "\n",
    "#Removing all the rows with nan values, if not they will affect our model's accuracy\n",
    "\n",
    "print(df.isnull().sum())\n",
    "df = df.dropna()          #inbuilt function of pandas.Dataframe to remove all the nan values\n",
    "df.describe()"
   ]
  },
  {
   "cell_type": "code",
   "execution_count": 5,
   "id": "matched-reporter",
   "metadata": {},
   "outputs": [
    {
     "data": {
      "text/plain": [
       "R&D Spend          2\n",
       "Administration     0\n",
       "Marketing Spend    3\n",
       "State              0\n",
       "Profit             0\n",
       "dtype: int64"
      ]
     },
     "execution_count": 5,
     "metadata": {},
     "output_type": "execute_result"
    }
   ],
   "source": [
    "#Changing all the zeros to nan so that we can fill them with relevant values\n",
    "\n",
    "df = df.replace(0.0, np.nan)\n",
    "df.isnull().sum()"
   ]
  },
  {
   "cell_type": "code",
   "execution_count": 6,
   "id": "monetary-grill",
   "metadata": {},
   "outputs": [
    {
     "data": {
      "text/plain": [
       "R&D Spend          0\n",
       "Administration     0\n",
       "Marketing Spend    0\n",
       "State              0\n",
       "Profit             0\n",
       "dtype: int64"
      ]
     },
     "execution_count": 6,
     "metadata": {},
     "output_type": "execute_result"
    }
   ],
   "source": [
    "#Replacing all the zeros that were converted into nan before by the mean of those columns\n",
    "\n",
    "df['R&D Spend'].fillna(df['R&D Spend'].mean(), inplace = True)\n",
    "df['Marketing Spend'].fillna(df['Marketing Spend'].mean(), inplace = True)\n",
    "df.isnull().sum()"
   ]
  },
  {
   "cell_type": "code",
   "execution_count": 7,
   "id": "handled-article",
   "metadata": {
    "scrolled": true
   },
   "outputs": [
    {
     "data": {
      "text/html": [
       "<div>\n",
       "<style scoped>\n",
       "    .dataframe tbody tr th:only-of-type {\n",
       "        vertical-align: middle;\n",
       "    }\n",
       "\n",
       "    .dataframe tbody tr th {\n",
       "        vertical-align: top;\n",
       "    }\n",
       "\n",
       "    .dataframe thead th {\n",
       "        text-align: right;\n",
       "    }\n",
       "</style>\n",
       "<table border=\"1\" class=\"dataframe\">\n",
       "  <thead>\n",
       "    <tr style=\"text-align: right;\">\n",
       "      <th></th>\n",
       "      <th>R&amp;D Spend</th>\n",
       "      <th>Administration</th>\n",
       "      <th>Marketing Spend</th>\n",
       "      <th>Profit</th>\n",
       "    </tr>\n",
       "  </thead>\n",
       "  <tbody>\n",
       "    <tr>\n",
       "      <th>R&amp;D Spend</th>\n",
       "      <td>1.000000</td>\n",
       "      <td>0.268979</td>\n",
       "      <td>0.666533</td>\n",
       "      <td>0.881354</td>\n",
       "    </tr>\n",
       "    <tr>\n",
       "      <th>Administration</th>\n",
       "      <td>0.268979</td>\n",
       "      <td>1.000000</td>\n",
       "      <td>-0.070590</td>\n",
       "      <td>0.200717</td>\n",
       "    </tr>\n",
       "    <tr>\n",
       "      <th>Marketing Spend</th>\n",
       "      <td>0.666533</td>\n",
       "      <td>-0.070590</td>\n",
       "      <td>1.000000</td>\n",
       "      <td>0.693088</td>\n",
       "    </tr>\n",
       "    <tr>\n",
       "      <th>Profit</th>\n",
       "      <td>0.881354</td>\n",
       "      <td>0.200717</td>\n",
       "      <td>0.693088</td>\n",
       "      <td>1.000000</td>\n",
       "    </tr>\n",
       "  </tbody>\n",
       "</table>\n",
       "</div>"
      ],
      "text/plain": [
       "                 R&D Spend  Administration  Marketing Spend    Profit\n",
       "R&D Spend         1.000000        0.268979         0.666533  0.881354\n",
       "Administration    0.268979        1.000000        -0.070590  0.200717\n",
       "Marketing Spend   0.666533       -0.070590         1.000000  0.693088\n",
       "Profit            0.881354        0.200717         0.693088  1.000000"
      ]
     },
     "execution_count": 7,
     "metadata": {},
     "output_type": "execute_result"
    }
   ],
   "source": [
    "#Checking the correlation matrix of the data\n",
    "\n",
    "df.corr()"
   ]
  },
  {
   "cell_type": "code",
   "execution_count": 8,
   "id": "increased-excuse",
   "metadata": {},
   "outputs": [
    {
     "name": "stdout",
     "output_type": "stream",
     "text": [
      "Number of startups in New York 17\n",
      "Number of startups in California 17\n",
      "Number of startups in Florida 16\n"
     ]
    }
   ],
   "source": [
    "#Checking the number of startups in each State\n",
    "\n",
    "Startups_in_New_York = df.loc[df['State']=='New York']\n",
    "Startups_in_California = df.loc[df['State']=='California']\n",
    "Startups_in_Florida = df.loc[df['State']=='Florida']\n",
    "print(\"Number of startups in New York\", len(Startups_in_New_York))\n",
    "print(\"Number of startups in California\", len(Startups_in_California))\n",
    "print(\"Number of startups in Florida\", len(Startups_in_Florida))"
   ]
  },
  {
   "cell_type": "code",
   "execution_count": 9,
   "id": "amended-matrix",
   "metadata": {},
   "outputs": [
    {
     "data": {
      "text/plain": [
       "<Figure size 432x288 with 0 Axes>"
      ]
     },
     "metadata": {},
     "output_type": "display_data"
    },
    {
     "data": {
      "image/png": "[encoded data removed]",
      "text/plain": [
       "<Figure size 432x288 with 1 Axes>"
      ]
     },
     "metadata": {
      "needs_background": "light"
     },
     "output_type": "display_data"
    }
   ],
   "source": [
    "#Data Visualization\n",
    "\n",
    "#Here we draw the plot bar graph of the spendings by the startups organised by States\n",
    "\n",
    "fig = plt.figure()\n",
    "fig, ax = plt.subplots()\n",
    "cities = [i for i in df['State'].unique()]\n",
    "\n",
    "#Get the total of the profits and spendings of the startups in each State\n",
    "\n",
    "Profits = [round(Startups_in_New_York['Profit'].sum()), round(Startups_in_California['Profit'].sum()), \\\n",
    "           round(Startups_in_Florida['Profit'].sum())]\n",
    "RD_Spend = [round(Startups_in_New_York['R&D Spend'].sum()), round(Startups_in_California['R&D Spend'].sum()), \\\n",
    "            round(Startups_in_Florida['R&D Spend'].sum())]\n",
    "Administration = [round(Startups_in_New_York['Administration'].sum()), round(Startups_in_California['Administration'].sum()), \\\n",
    "                  round(Startups_in_Florida['Administration'].sum())]\n",
    "Marketing = [round(Startups_in_New_York['Marketing Spend'].sum()), round(Startups_in_California['Marketing Spend'].sum()), \\\n",
    "             round(Startups_in_Florida['Marketing Spend'].sum())]\n",
    "\n",
    "New_york = [RD_Spend[0], Administration[0], Marketing[0], Profits[0]]\n",
    "California = [RD_Spend[1], Administration[1], Marketing[1], Profits[1]]\n",
    "Florida = [RD_Spend[2], Administration[2], Marketing[2], Profits[2]]\n",
    "\n",
    "#Draw the bar graph and set proper labels, legend, etc.,.\n",
    "\n",
    "labels = ['R&D Spend', 'Administration', 'Marketing Spend', 'Profits']\n",
    "X = np.arange(len(labels))\n",
    "ax.set_title('Expenditure and Profits by States')\n",
    "ax.bar(X - 0.25, New_york, color = 'b', width = 0.25, label='New York')\n",
    "ax.bar(X + 0.00, California, color = 'g', width = 0.25, label='California')\n",
    "ax.bar(X + 0.25, Florida, color = 'r', width = 0.25, label='Florida')\n",
    "\n",
    "ax.set_ylabel('Expenditure (order of 10^6)')\n",
    "ax.set_xticks(X)\n",
    "ax.set_xticklabels(labels)\n",
    "ax.legend()\n",
    "\n",
    "fig.tight_layout()\n",
    "\n",
    "plt.show()"
   ]
  },
  {
   "cell_type": "code",
   "execution_count": 10,
   "id": "revised-emerald",
   "metadata": {},
   "outputs": [
    {
     "data": {
      "image/png": "[encoded data removed]",
      "text/plain": [
       "<Figure size 432x288 with 2 Axes>"
      ]
     },
     "metadata": {
      "needs_background": "light"
     },
     "output_type": "display_data"
    }
   ],
   "source": [
    "#Draw the heat map of the data for analysis\n",
    "\n",
    "plt.figure()\n",
    "sns.heatmap(df.corr(), cmap='coolwarm', annot=True)\n",
    "plt.show()"
   ]
  },
  {
   "cell_type": "code",
   "execution_count": 11,
   "id": "closing-saver",
   "metadata": {},
   "outputs": [
    {
     "data": {
      "text/plain": [
       "Text(0.5, 0.98, 'Plot between R&d Spendings and Profit')"
      ]
     },
     "execution_count": 11,
     "metadata": {},
     "output_type": "execute_result"
    },
    {
     "data": {
      "image/png": "[encoded data removed]",
      "text/plain": [
       "<Figure size 360x360 with 1 Axes>"
      ]
     },
     "metadata": {
      "needs_background": "light"
     },
     "output_type": "display_data"
    }
   ],
   "source": [
    "#Draw the graphs between each independant variable and dependant variable for analysis\n",
    "\n",
    "sns.lmplot(x='R&D Spend', y='Profit', data=df).fig.suptitle(\"Plot between R&d Spendings and Profit\", fontsize=12)"
   ]
  },
  {
   "cell_type": "code",
   "execution_count": 12,
   "id": "neither-hunger",
   "metadata": {},
   "outputs": [
    {
     "data": {
      "text/plain": [
       "Text(0.5, 0.98, 'Plot between Administration Spendings and Profit')"
      ]
     },
     "execution_count": 12,
     "metadata": {},
     "output_type": "execute_result"
    },
    {
     "data": {
      "image/png": "[encoded data removed]",
      "text/plain": [
       "<Figure size 360x360 with 1 Axes>"
      ]
     },
     "metadata": {
      "needs_background": "light"
     },
     "output_type": "display_data"
    }
   ],
   "source": [
    "fig = sns.lmplot(x='Administration', y='Profit', data=df)\n",
    "fig = fig.fig\n",
    "fig.suptitle(\"Plot between Administration Spendings and Profit\", fontsize=12)"
   ]
  },
  {
   "cell_type": "code",
   "execution_count": 13,
   "id": "ignored-ethnic",
   "metadata": {},
   "outputs": [
    {
     "data": {
      "text/plain": [
       "Text(0.5, 0.98, 'Plot between Marketing Spendings and Profit')"
      ]
     },
     "execution_count": 13,
     "metadata": {},
     "output_type": "execute_result"
    },
    {
     "data": {
      "image/png": "[encoded data removed]",
      "text/plain": [
       "<Figure size 360x360 with 1 Axes>"
      ]
     },
     "metadata": {
      "needs_background": "light"
     },
     "output_type": "display_data"
    }
   ],
   "source": [
    "sns.lmplot(x='Marketing Spend', y='Profit', data=df).fig.suptitle(\"Plot between Marketing Spendings and Profit\", fontsize=12)"
   ]
  },
  {
   "cell_type": "code",
   "execution_count": 14,
   "id": "dangerous-ministry",
   "metadata": {},
   "outputs": [
    {
     "data": {
      "text/html": [
       "<div>\n",
       "<style scoped>\n",
       "    .dataframe tbody tr th:only-of-type {\n",
       "        vertical-align: middle;\n",
       "    }\n",
       "\n",
       "    .dataframe tbody tr th {\n",
       "        vertical-align: top;\n",
       "    }\n",
       "\n",
       "    .dataframe thead th {\n",
       "        text-align: right;\n",
       "    }\n",
       "</style>\n",
       "<table border=\"1\" class=\"dataframe\">\n",
       "  <thead>\n",
       "    <tr style=\"text-align: right;\">\n",
       "      <th></th>\n",
       "      <th>R&amp;D Spend</th>\n",
       "      <th>Administration</th>\n",
       "      <th>Marketing Spend</th>\n",
       "      <th>California</th>\n",
       "      <th>Florida</th>\n",
       "      <th>New York</th>\n",
       "      <th>Profit</th>\n",
       "    </tr>\n",
       "  </thead>\n",
       "  <tbody>\n",
       "    <tr>\n",
       "      <th>0</th>\n",
       "      <td>165349.20</td>\n",
       "      <td>136897.80</td>\n",
       "      <td>471784.10</td>\n",
       "      <td>0</td>\n",
       "      <td>0</td>\n",
       "      <td>1</td>\n",
       "      <td>192261.83</td>\n",
       "    </tr>\n",
       "    <tr>\n",
       "      <th>1</th>\n",
       "      <td>162597.70</td>\n",
       "      <td>151377.59</td>\n",
       "      <td>443898.53</td>\n",
       "      <td>1</td>\n",
       "      <td>0</td>\n",
       "      <td>0</td>\n",
       "      <td>191792.06</td>\n",
       "    </tr>\n",
       "    <tr>\n",
       "      <th>2</th>\n",
       "      <td>153441.51</td>\n",
       "      <td>101145.55</td>\n",
       "      <td>407934.54</td>\n",
       "      <td>0</td>\n",
       "      <td>1</td>\n",
       "      <td>0</td>\n",
       "      <td>191050.39</td>\n",
       "    </tr>\n",
       "    <tr>\n",
       "      <th>3</th>\n",
       "      <td>144372.41</td>\n",
       "      <td>118671.85</td>\n",
       "      <td>383199.62</td>\n",
       "      <td>0</td>\n",
       "      <td>0</td>\n",
       "      <td>1</td>\n",
       "      <td>182901.99</td>\n",
       "    </tr>\n",
       "    <tr>\n",
       "      <th>5</th>\n",
       "      <td>142107.34</td>\n",
       "      <td>91391.77</td>\n",
       "      <td>366168.42</td>\n",
       "      <td>0</td>\n",
       "      <td>1</td>\n",
       "      <td>0</td>\n",
       "      <td>166187.94</td>\n",
       "    </tr>\n",
       "  </tbody>\n",
       "</table>\n",
       "</div>"
      ],
      "text/plain": [
       "   R&D Spend  Administration  Marketing Spend  California  Florida  New York  \\\n",
       "0  165349.20       136897.80        471784.10           0        0         1   \n",
       "1  162597.70       151377.59        443898.53           1        0         0   \n",
       "2  153441.51       101145.55        407934.54           0        1         0   \n",
       "3  144372.41       118671.85        383199.62           0        0         1   \n",
       "5  142107.34        91391.77        366168.42           0        1         0   \n",
       "\n",
       "      Profit  \n",
       "0  192261.83  \n",
       "1  191792.06  \n",
       "2  191050.39  \n",
       "3  182901.99  \n",
       "5  166187.94  "
      ]
     },
     "execution_count": 14,
     "metadata": {},
     "output_type": "execute_result"
    }
   ],
   "source": [
    "#Data Preprocessing\n",
    "\n",
    "#Perform one-hot encoding to reduce the ordinal data of State to a form that can be used to build the model\n",
    "\n",
    "one_hot = pd.get_dummies(df['State'])\n",
    "df = df.drop('State', axis=1)\n",
    "df = df.join(one_hot)\n",
    "prof = df['Profit']\n",
    "df = df.drop('Profit', axis=1).join(prof)\n",
    "df.head()"
   ]
  },
  {
   "cell_type": "code",
   "execution_count": 15,
   "id": "convenient-temperature",
   "metadata": {},
   "outputs": [
    {
     "data": {
      "text/html": [
       "<div>\n",
       "<style scoped>\n",
       "    .dataframe tbody tr th:only-of-type {\n",
       "        vertical-align: middle;\n",
       "    }\n",
       "\n",
       "    .dataframe tbody tr th {\n",
       "        vertical-align: top;\n",
       "    }\n",
       "\n",
       "    .dataframe thead th {\n",
       "        text-align: right;\n",
       "    }\n",
       "</style>\n",
       "<table border=\"1\" class=\"dataframe\">\n",
       "  <thead>\n",
       "    <tr style=\"text-align: right;\">\n",
       "      <th></th>\n",
       "      <th>R&amp;D Spend</th>\n",
       "      <th>Administration</th>\n",
       "      <th>Marketing Spend</th>\n",
       "      <th>California</th>\n",
       "      <th>Florida</th>\n",
       "      <th>New York</th>\n",
       "      <th>Profit</th>\n",
       "    </tr>\n",
       "  </thead>\n",
       "  <tbody>\n",
       "    <tr>\n",
       "      <th>R&amp;D Spend</th>\n",
       "      <td>1.000000</td>\n",
       "      <td>0.268979</td>\n",
       "      <td>0.666533</td>\n",
       "      <td>-0.051912</td>\n",
       "      <td>0.062887</td>\n",
       "      <td>-0.010015</td>\n",
       "      <td>0.881354</td>\n",
       "    </tr>\n",
       "    <tr>\n",
       "      <th>Administration</th>\n",
       "      <td>0.268979</td>\n",
       "      <td>1.000000</td>\n",
       "      <td>-0.070590</td>\n",
       "      <td>-0.015478</td>\n",
       "      <td>0.010493</td>\n",
       "      <td>0.005145</td>\n",
       "      <td>0.200717</td>\n",
       "    </tr>\n",
       "    <tr>\n",
       "      <th>Marketing Spend</th>\n",
       "      <td>0.666533</td>\n",
       "      <td>-0.070590</td>\n",
       "      <td>1.000000</td>\n",
       "      <td>-0.189842</td>\n",
       "      <td>0.144084</td>\n",
       "      <td>0.047958</td>\n",
       "      <td>0.693088</td>\n",
       "    </tr>\n",
       "    <tr>\n",
       "      <th>California</th>\n",
       "      <td>-0.051912</td>\n",
       "      <td>-0.015478</td>\n",
       "      <td>-0.189842</td>\n",
       "      <td>1.000000</td>\n",
       "      <td>-0.492366</td>\n",
       "      <td>-0.515152</td>\n",
       "      <td>-0.145837</td>\n",
       "    </tr>\n",
       "    <tr>\n",
       "      <th>Florida</th>\n",
       "      <td>0.062887</td>\n",
       "      <td>0.010493</td>\n",
       "      <td>0.144084</td>\n",
       "      <td>-0.492366</td>\n",
       "      <td>1.000000</td>\n",
       "      <td>-0.492366</td>\n",
       "      <td>0.116244</td>\n",
       "    </tr>\n",
       "    <tr>\n",
       "      <th>New York</th>\n",
       "      <td>-0.010015</td>\n",
       "      <td>0.005145</td>\n",
       "      <td>0.047958</td>\n",
       "      <td>-0.515152</td>\n",
       "      <td>-0.492366</td>\n",
       "      <td>1.000000</td>\n",
       "      <td>0.031368</td>\n",
       "    </tr>\n",
       "    <tr>\n",
       "      <th>Profit</th>\n",
       "      <td>0.881354</td>\n",
       "      <td>0.200717</td>\n",
       "      <td>0.693088</td>\n",
       "      <td>-0.145837</td>\n",
       "      <td>0.116244</td>\n",
       "      <td>0.031368</td>\n",
       "      <td>1.000000</td>\n",
       "    </tr>\n",
       "  </tbody>\n",
       "</table>\n",
       "</div>"
      ],
      "text/plain": [
       "                 R&D Spend  Administration  Marketing Spend  California  \\\n",
       "R&D Spend         1.000000        0.268979         0.666533   -0.051912   \n",
       "Administration    0.268979        1.000000        -0.070590   -0.015478   \n",
       "Marketing Spend   0.666533       -0.070590         1.000000   -0.189842   \n",
       "California       -0.051912       -0.015478        -0.189842    1.000000   \n",
       "Florida           0.062887        0.010493         0.144084   -0.492366   \n",
       "New York         -0.010015        0.005145         0.047958   -0.515152   \n",
       "Profit            0.881354        0.200717         0.693088   -0.145837   \n",
       "\n",
       "                  Florida  New York    Profit  \n",
       "R&D Spend        0.062887 -0.010015  0.881354  \n",
       "Administration   0.010493  0.005145  0.200717  \n",
       "Marketing Spend  0.144084  0.047958  0.693088  \n",
       "California      -0.492366 -0.515152 -0.145837  \n",
       "Florida          1.000000 -0.492366  0.116244  \n",
       "New York        -0.492366  1.000000  0.031368  \n",
       "Profit           0.116244  0.031368  1.000000  "
      ]
     },
     "execution_count": 15,
     "metadata": {},
     "output_type": "execute_result"
    }
   ],
   "source": [
    "#Check the correlation values\n",
    "\n",
    "df.corr()"
   ]
  },
  {
   "cell_type": "code",
   "execution_count": 16,
   "id": "marked-findings",
   "metadata": {},
   "outputs": [
    {
     "data": {
      "text/html": [
       "<div>\n",
       "<style scoped>\n",
       "    .dataframe tbody tr th:only-of-type {\n",
       "        vertical-align: middle;\n",
       "    }\n",
       "\n",
       "    .dataframe tbody tr th {\n",
       "        vertical-align: top;\n",
       "    }\n",
       "\n",
       "    .dataframe thead th {\n",
       "        text-align: right;\n",
       "    }\n",
       "</style>\n",
       "<table border=\"1\" class=\"dataframe\">\n",
       "  <thead>\n",
       "    <tr style=\"text-align: right;\">\n",
       "      <th></th>\n",
       "      <th>R&amp;D Spend</th>\n",
       "      <th>Administration</th>\n",
       "      <th>Marketing Spend</th>\n",
       "      <th>California</th>\n",
       "      <th>Florida</th>\n",
       "      <th>Profit</th>\n",
       "    </tr>\n",
       "  </thead>\n",
       "  <tbody>\n",
       "    <tr>\n",
       "      <th>0</th>\n",
       "      <td>165349.20</td>\n",
       "      <td>136897.80</td>\n",
       "      <td>471784.10</td>\n",
       "      <td>0</td>\n",
       "      <td>0</td>\n",
       "      <td>192261.83</td>\n",
       "    </tr>\n",
       "    <tr>\n",
       "      <th>1</th>\n",
       "      <td>162597.70</td>\n",
       "      <td>151377.59</td>\n",
       "      <td>443898.53</td>\n",
       "      <td>1</td>\n",
       "      <td>0</td>\n",
       "      <td>191792.06</td>\n",
       "    </tr>\n",
       "    <tr>\n",
       "      <th>2</th>\n",
       "      <td>153441.51</td>\n",
       "      <td>101145.55</td>\n",
       "      <td>407934.54</td>\n",
       "      <td>0</td>\n",
       "      <td>1</td>\n",
       "      <td>191050.39</td>\n",
       "    </tr>\n",
       "    <tr>\n",
       "      <th>3</th>\n",
       "      <td>144372.41</td>\n",
       "      <td>118671.85</td>\n",
       "      <td>383199.62</td>\n",
       "      <td>0</td>\n",
       "      <td>0</td>\n",
       "      <td>182901.99</td>\n",
       "    </tr>\n",
       "    <tr>\n",
       "      <th>5</th>\n",
       "      <td>142107.34</td>\n",
       "      <td>91391.77</td>\n",
       "      <td>366168.42</td>\n",
       "      <td>0</td>\n",
       "      <td>1</td>\n",
       "      <td>166187.94</td>\n",
       "    </tr>\n",
       "  </tbody>\n",
       "</table>\n",
       "</div>"
      ],
      "text/plain": [
       "   R&D Spend  Administration  Marketing Spend  California  Florida     Profit\n",
       "0  165349.20       136897.80        471784.10           0        0  192261.83\n",
       "1  162597.70       151377.59        443898.53           1        0  191792.06\n",
       "2  153441.51       101145.55        407934.54           0        1  191050.39\n",
       "3  144372.41       118671.85        383199.62           0        0  182901.99\n",
       "5  142107.34        91391.77        366168.42           0        1  166187.94"
      ]
     },
     "execution_count": 16,
     "metadata": {},
     "output_type": "execute_result"
    }
   ],
   "source": [
    "#Remove the column of New-York to prevent 'Dummy Variable Trap', which is caused due to the redundant data that\n",
    "#was obtained due to the one hot encoding performed on States column\n",
    "\n",
    "df = df.drop('New York', axis=1)\n",
    "df.head()"
   ]
  },
  {
   "cell_type": "code",
   "execution_count": 17,
   "id": "impressive-gibson",
   "metadata": {},
   "outputs": [],
   "source": [
    "#Building the model\n",
    "\n",
    "#Split the data into train and test data(80% and 20%) \n",
    "\n",
    "X = df.iloc[:,:-1].values\n",
    "y = df.iloc[:,5].values\n",
    "X_train, X_test, y_train, y_test = train_test_split(X, y, test_size = 0.2, random_state = 0)"
   ]
  },
  {
   "cell_type": "code",
   "execution_count": 18,
   "id": "alternate-pennsylvania",
   "metadata": {},
   "outputs": [
    {
     "name": "stdout",
     "output_type": "stream",
     "text": [
      "33616.46584790526\n",
      "[ 6.45209703e-01  1.00425490e-01  8.15150660e-02 -6.68132451e+03\n",
      " -1.81773441e+03]\n"
     ]
    }
   ],
   "source": [
    "#Train the model with the train dataset\n",
    "\n",
    "regressor = LinearRegression()\n",
    "regressor.fit(X_train, y_train)\n",
    "print(regressor.intercept_)\n",
    "print(regressor.coef_)"
   ]
  },
  {
   "cell_type": "code",
   "execution_count": 19,
   "id": "vocal-government",
   "metadata": {},
   "outputs": [],
   "source": [
    "#Run the model trained on the test values to obtain the predicted values\n",
    "\n",
    "predictions = regressor.predict(X_test)"
   ]
  },
  {
   "cell_type": "code",
   "execution_count": 20,
   "id": "matched-miami",
   "metadata": {},
   "outputs": [
    {
     "data": {
      "image/png": "[encoded data removed]",
      "text/plain": [
       "<Figure size 432x288 with 1 Axes>"
      ]
     },
     "metadata": {
      "needs_background": "light"
     },
     "output_type": "display_data"
    }
   ],
   "source": [
    "#Plot the values obtained by predicting using the model trained and the actual test values to evaluate our model's performance\n",
    "\n",
    "plt.grid(True)\n",
    "plt.plot(predictions, color = 'red', label = 'Predicted')\n",
    "plt.plot(y_test, color = 'blue', label = 'y_test')\n",
    "plt.legend()\n",
    "plt.ylabel('Profit')\n",
    "plt.show()"
   ]
  }
 ],
 "metadata": {
  "kernelspec": {
   "display_name": "Python 3",
   "language": "python",
   "name": "python3"
  },
  "language_info": {
   "codemirror_mode": {
    "name": "ipython",
    "version": 3
   },
   "file_extension": ".py",
   "mimetype": "text/x-python",
   "name": "python",
   "nbconvert_exporter": "python",
   "pygments_lexer": "ipython3",
   "version": "3.7.9"
  }
 },
 "nbformat": 4,
 "nbformat_minor": 5
}
